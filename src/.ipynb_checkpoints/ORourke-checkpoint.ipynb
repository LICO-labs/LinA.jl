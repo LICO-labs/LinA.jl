{
 "cells": [
  {
   "cell_type": "code",
   "execution_count": null,
   "metadata": {},
   "outputs": [
    {
     "name": "stderr",
     "output_type": "stream",
     "text": [
      "┌ Info: Precompiling Polyhedra [67491407-f73d-577b-9b50-8179a7c68029]\n",
      "└ @ Base loading.jl:1273\n"
     ]
    }
   ],
   "source": [
    "using Polyhedra, Plots , CPLEX\n",
    "include(\"strucDef.jl\")"
   ]
  },
  {
   "cell_type": "code",
   "execution_count": null,
   "metadata": {},
   "outputs": [],
   "source": [
    "function pointPlane(p::dataError)\n",
    "    # a and b are the variables to optimize\n",
    "    # -x*a - b < - ymin\n",
    "    # x*a + b < ymax\n",
    "    return HalfSpace([-p.x, -1], -p.yMin) ∩ HalfSpace([p.x, 1], p.yMax)\n",
    "end"
   ]
  },
  {
   "cell_type": "code",
   "execution_count": null,
   "metadata": {},
   "outputs": [],
   "source": [
    "function ORourke(pts)\n",
    "    pts = copy(pts)\n",
    "    \n",
    "    poly = pointPlane(pts[1])\n",
    "    temp = poly;\n",
    "    coveredPts = [popfirst!(pts)];\n",
    "    \n",
    "   \n",
    "    while !isempty(pts) && !isempty(poly,CplexSolver(CPX_PARAM_SCRIND = 0))\n",
    "        \n",
    "        temp = copy(poly);\n",
    "        poly = poly ∩ pointPlane(pts[1])\n",
    "        push!(coveredPts,popfirst!(pts)) #careeeeeeeee\n",
    "        \n",
    "    end\n",
    "    \n",
    "    \n",
    "    if isempty(poly,CplexSolver(CPX_PARAM_SCRIND = 0))\n",
    "        pop!(coveredPts)\n",
    "        poly = temp\n",
    "    end\n",
    "\n",
    "    \n",
    "    #on prend un point quelconque dans le polygone de contraintes des coef\n",
    "    veticesPoly = collect(points(doubledescription(poly)))\n",
    "    lineCoef = (veticesPoly[1].+ veticesPoly[end])./2\n",
    "    \n",
    "    #on le transforme en segement de droite\n",
    "    line =  LinearPiece(coveredPts[1].x,coveredPts[end].x,lineCoef[1],lineCoef[2],x-> lineCoef[1]*x + lineCoef[2])\n",
    "    \n",
    "    return line\n",
    "    \n",
    "end\n",
    "\n"
   ]
  },
  {
   "cell_type": "code",
   "execution_count": null,
   "metadata": {},
   "outputs": [],
   "source": [
    "b(x) = x^2\n",
    "h(x) = x^2 + 0.1\n",
    "xpts = [4.0,5.0,7.0,15.0,16.0]\n",
    "pts = fctSample.(xpts,b,h)\n",
    "line = ORourke(pts)"
   ]
  },
  {
   "cell_type": "code",
   "execution_count": null,
   "metadata": {},
   "outputs": [],
   "source": [
    "?Polyhedra.linear_objective_solver()"
   ]
  },
  {
   "cell_type": "code",
   "execution_count": null,
   "metadata": {},
   "outputs": [],
   "source": [
    "bob = pointPlane.(pts)"
   ]
  },
  {
   "cell_type": "code",
   "execution_count": null,
   "metadata": {},
   "outputs": [],
   "source": [
    "wasd = bob[1]\n",
    "for i in bob\n",
    "    wasd ∩ i\n",
    "end"
   ]
  },
  {
   "cell_type": "code",
   "execution_count": null,
   "metadata": {},
   "outputs": [],
   "source": [
    "typeof(wasd) <:Rep"
   ]
  },
  {
   "cell_type": "code",
   "execution_count": null,
   "metadata": {},
   "outputs": [],
   "source": [
    "?isempty"
   ]
  },
  {
   "cell_type": "code",
   "execution_count": null,
   "metadata": {},
   "outputs": [],
   "source": []
  },
  {
   "cell_type": "code",
   "execution_count": null,
   "metadata": {},
   "outputs": [],
   "source": [
    "using CPLEX"
   ]
  },
  {
   "cell_type": "code",
   "execution_count": null,
   "metadata": {},
   "outputs": [],
   "source": [
    "?CplexSolver"
   ]
  },
  {
   "cell_type": "code",
   "execution_count": null,
   "metadata": {},
   "outputs": [],
   "source": [
    "?CPLEX"
   ]
  },
  {
   "cell_type": "code",
   "execution_count": null,
   "metadata": {},
   "outputs": [],
   "source": [
    "isempty(wasd,CplexSolver())"
   ]
  },
  {
   "cell_type": "code",
   "execution_count": null,
   "metadata": {},
   "outputs": [],
   "source": [
    "?Polyhedra.linear_objective_solver"
   ]
  },
  {
   "cell_type": "code",
   "execution_count": null,
   "metadata": {},
   "outputs": [],
   "source": [
    "@which Polyhedra.linear_objective_solver(wasd)"
   ]
  },
  {
   "cell_type": "code",
   "execution_count": null,
   "metadata": {},
   "outputs": [],
   "source": [
    "typeof(Polyhedra.linear_objective_solver(wasd))"
   ]
  },
  {
   "cell_type": "code",
   "execution_count": null,
   "metadata": {},
   "outputs": [],
   "source": [
    "isempty(wasd, Polyhedra.linear_objective_solver(wasd))"
   ]
  },
  {
   "cell_type": "code",
   "execution_count": null,
   "metadata": {},
   "outputs": [],
   "source": []
  }
 ],
 "metadata": {
  "@webio": {
   "lastCommId": null,
   "lastKernelId": null
  },
  "kernelspec": {
   "display_name": "Julia 1.3.1",
   "language": "julia",
   "name": "julia-1.3"
  },
  "language_info": {
   "file_extension": ".jl",
   "mimetype": "application/julia",
   "name": "julia",
   "version": "1.3.1"
  }
 },
 "nbformat": 4,
 "nbformat_minor": 2
}
