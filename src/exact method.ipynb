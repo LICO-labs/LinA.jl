{
 "cells": [
  {
   "cell_type": "code",
   "execution_count": 5,
   "metadata": {},
   "outputs": [
    {
     "ename": "LoadError",
     "evalue": "LoadError: UndefVarError: dataError not defined\nin expression starting at C:\\Users\\julie\\stage ete 2018\\mcndstage\\codes\\Julia\\Version la plus recente\\version 1.0\\temp dispatch\\LinA\\src\\ORourke.jl:5",
     "output_type": "error",
     "traceback": [
      "LoadError: UndefVarError: dataError not defined\nin expression starting at C:\\Users\\julie\\stage ete 2018\\mcndstage\\codes\\Julia\\Version la plus recente\\version 1.0\\temp dispatch\\LinA\\src\\ORourke.jl:5",
      "",
      "Stacktrace:",
      " [1] top-level scope at C:\\Users\\julie\\stage ete 2018\\mcndstage\\codes\\Julia\\Version la plus recente\\version 1.0\\temp dispatch\\LinA\\src\\ORourke.jl:5",
      " [2] include at .\\boot.jl:328 [inlined]",
      " [3] include_relative(::Module, ::String) at .\\loading.jl:1105",
      " [4] include(::Module, ::String) at .\\Base.jl:31",
      " [5] include(::String) at .\\client.jl:424",
      " [6] top-level scope at C:\\Users\\julie\\stage ete 2018\\mcndstage\\codes\\Julia\\Version la plus recente\\version 1.0\\temp dispatch\\LinA\\src\\exactPiece.jl:2",
      " [7] include at .\\boot.jl:328 [inlined]",
      " [8] include_relative(::Module, ::String) at .\\loading.jl:1105",
      " [9] include(::Module, ::String) at .\\Base.jl:31",
      " [10] include(::String) at .\\client.jl:424",
      " [11] top-level scope at In[5]:8"
     ]
    }
   ],
   "source": [
    "#include(\"PreDecoupageFonction.jl\")\n",
    "#include(\"include_Approx_lin_27_juin.jl\")\n",
    "#include(\"exactPiece.jl\")\n",
    "using GeneralizedGenerated\n",
    "using Roots\n",
    "using Calculus\n",
    "using GeneralizedGenerated\n",
    "\n",
    "include(\"exactPiece.jl\")\n",
    "#include(\"LinA.jl\")\n",
    "include(\"strucDef.jl\")\n",
    "include(\"convexConcaveSplit.jl\")\n",
    "include(\"CorridorFromInfo.jl\")\n",
    "include(\"Linearize Dispatch.jl\")"
   ]
  },
  {
   "cell_type": "code",
   "execution_count": 6,
   "metadata": {},
   "outputs": [
    {
     "ename": "UndefVarError",
     "evalue": "UndefVarError: ErrorType not defined",
     "output_type": "error",
     "traceback": [
      "UndefVarError: ErrorType not defined",
      "",
      "Stacktrace:",
      " [1] top-level scope at In[6]:1"
     ]
    }
   ],
   "source": [
    "function exactLin(expr_fct::Expr,x1::Real,x2::Real, e::ErrorType; bounding = Best() ::BoundingType, \n",
    "                    ConcavityChanges = [Inf]::Array{Float64,1} )\n",
    "    if x1 >= x2\n",
    "        return Float64[]\n",
    "    end\n",
    "   \n",
    "    \n",
    "    if ConcavityChanges[1] == Inf\n",
    "        ConcavityChanges = decoupageConvavite(x1,x2,expr_fct)\n",
    "    end\n",
    "    ConcavityChanges = [x1;ConcavityChanges;x2] \n",
    "    ConcavityChanges = sort(unique(ConcavityChanges)) # make sure that the bounds are there\n",
    "    pwl = Array{LinearPiece}(undef, 0)\n",
    "    cor = corridorFromInfo(x1, x2,expr_fct, e, bounding)[3:end-1]\n",
    "    \n",
    "    x2Temp = -1\n",
    "    i=1\n",
    "    while x1 < x2\n",
    "        i = searchsortedfirst(ConcavityChanges,x1)\n",
    "        ConcavityChanges[i] == x1 ? x2Temp = ConcavityChanges[i+1] : x2Temp = ConcavityChanges[i]\n",
    "        println(x1,\"  \",x2Temp)\n",
    "        pwl = [pwl;Linearize(expr_fct, x1, x2Temp, e,bounding = bounding,ConcavityChanges=[] )] \n",
    "        pwl[end].xMax == x2 && break\n",
    "        println(pwl)\n",
    "        println(\"hello\") \n",
    "        pwl[end] = exactPiece(pwl[end].xMin,x2,cor...)\n",
    "        println(pwl,\"\\n\\n\\n\")\n",
    "        x1 = pwl[end].xMax\n",
    "    end\n",
    "    return pwl\n",
    "end"
   ]
  },
  {
   "cell_type": "code",
   "execution_count": 7,
   "metadata": {},
   "outputs": [
    {
     "ename": "UndefVarError",
     "evalue": "UndefVarError: Absolute not defined",
     "output_type": "error",
     "traceback": [
      "UndefVarError: Absolute not defined",
      "",
      "Stacktrace:",
      " [1] top-level scope at In[7]:1"
     ]
    }
   ],
   "source": [
    "exactLin(:(x^3),-3.0,3.0,Absolute(3))"
   ]
  },
  {
   "cell_type": "code",
   "execution_count": 57,
   "metadata": {},
   "outputs": [
    {
     "data": {
      "text/plain": [
       "true"
      ]
     },
     "execution_count": 57,
     "metadata": {},
     "output_type": "execute_result"
    }
   ],
   "source": [
    "typeof(Absolute(3)) <: ErrorType"
   ]
  },
  {
   "cell_type": "code",
   "execution_count": 14,
   "metadata": {},
   "outputs": [
    {
     "data": {
      "text/plain": [
       "1-element Array{Float64,1}:\n",
       " 0.0"
      ]
     },
     "execution_count": 14,
     "metadata": {},
     "output_type": "execute_result"
    }
   ],
   "source": [
    "LinA.decoupageConvavite(-3.0,3.0,:(x^3))"
   ]
  },
  {
   "cell_type": "code",
   "execution_count": 2,
   "metadata": {},
   "outputs": [],
   "source": [
    "using LinA"
   ]
  },
  {
   "cell_type": "code",
   "execution_count": 4,
   "metadata": {},
   "outputs": [
    {
     "data": {
      "text/plain": [
       "4-element Array{LinA.LinearPiece,1}:\n",
       " LinA.LinearPiece(-3.0, -1.0089536445869933, 13.044848390686356, 15.13454517205907, LinA.var\"#1#2\"{Float64,Float64}(13.044848390686356, 15.13454517205907))\n",
       " LinA.LinearPiece(-1.0089536445869933, 0.0, -4.928767413518695, -3.0, LinA.var\"#1#2\"{Float64,Float64}(-4.928767413518695, -3.0))                           \n",
       " LinA.LinearPiece(0.0, 2.498049532966813, 6.240251469155712, -3.0, LinA.var\"#1#2\"{Float64,Float64}(6.240251469155712, -3.0))                               \n",
       " LinA.LinearPiece(2.498049532966813, 3.0, 34.68777075712715, -74.06331227138145, LinA.var\"#1#2\"{Float64,Float64}(34.68777075712715, -74.06331227138145))   "
      ]
     },
     "execution_count": 4,
     "metadata": {},
     "output_type": "execute_result"
    }
   ],
   "source": [
    "Linearize(:(x^3), -3, 3, Absolute(3))"
   ]
  },
  {
   "cell_type": "code",
   "execution_count": 4,
   "metadata": {},
   "outputs": [
    {
     "data": {
      "text/plain": [
       "joinPwl (generic function with 1 method)"
      ]
     },
     "execution_count": 4,
     "metadata": {},
     "output_type": "execute_result"
    }
   ],
   "source": [
    "function joinPwl(Pwl1,Pwl2,underOver)\n",
    "    \n",
    "    if underOver\n",
    "        return ( [Pwl1[1];Pwl2[1]], [Pwl1[2];Pwl2[2]] )\n",
    "        \n",
    "    else\n",
    "        return [Pwl1 ; Pwl2]\n",
    "    end\n",
    "    \n",
    "end"
   ]
  },
  {
   "cell_type": "code",
   "execution_count": 5,
   "metadata": {},
   "outputs": [
    {
     "data": {
      "text/plain": [
       "underOverFct (generic function with 1 method)"
      ]
     },
     "execution_count": 5,
     "metadata": {},
     "output_type": "execute_result"
    }
   ],
   "source": [
    "function underOverFct(expr_fnc::Expr,relative, absolute, epsilon, delta)\n",
    "    #this dosent work if derivative are involve (abs is problematic)\n",
    "   @eval f(x) = $expr_fnc\n",
    "    \n",
    "    if relative\n",
    "        return (x -> f(x) + epsilon/100 * abs(f(x)), x -> f(x) - epsilon/100 * abs(f(x)))\n",
    "    end\n",
    "    if absolute\n",
    "        return (x -> f(x) + delta, x -> f(x) - delta )\n",
    "    end\n",
    "    \n",
    "end"
   ]
  },
  {
   "cell_type": "code",
   "execution_count": 98,
   "metadata": {},
   "outputs": [
    {
     "name": "stdout",
     "output_type": "stream",
     "text": [
      "1  3.4203854894568733\n",
      "LinearPiece[LinearPiece(1, 2.8519378245016647, 0.8060828093467353, 1.3553881754611612, var\"#399#400\"{Float64,Float64}(0.8060828093467353, 1.3553881754611612)), LinearPiece(2.8519378245016647, 3.4203854894568733, -1.8697495072970394, 8.986695571321457, var\"#399#400\"{Float64,Float64}(-1.8697495072970394, 8.986695571321457))]\n",
      "hello\n",
      "LinearPiece[LinearPiece(1, 2.8519378245016647, 0.8060828093467353, 1.3553881754611612, var\"#399#400\"{Float64,Float64}(0.8060828093467353, 1.3553881754611612)), LinearPiece(2.8519378245016647, 5.0, -0.22760641824161798, 3.689671325785885, var\"#383#384\"{Array{Float64,1}}([-0.22760641824161798, 3.689671325785885]))]\n",
      "\n",
      "\n",
      "\n"
     ]
    },
    {
     "data": {
      "text/plain": [
       "2-element Array{LinearPiece,1}:\n",
       " LinearPiece(1, 2.8519378245016647, 0.8060828093467353, 1.3553881754611612, var\"#399#400\"{Float64,Float64}(0.8060828093467353, 1.3553881754611612))       \n",
       " LinearPiece(2.8519378245016647, 5.0, -0.22760641824161798, 3.689671325785885, var\"#383#384\"{Array{Float64,1}}([-0.22760641824161798, 3.689671325785885]))"
      ]
     },
     "execution_count": 98,
     "metadata": {},
     "output_type": "execute_result"
    }
   ],
   "source": [
    "pwl = exactLin(:((sqrt(x))*(sin(x))+x), 1, 5, Absolute(0.32))\n"
   ]
  },
  {
   "cell_type": "code",
   "execution_count": 101,
   "metadata": {},
   "outputs": [
    {
     "name": "stderr",
     "output_type": "stream",
     "text": [
      "┌ Info: Precompiling LinA [38532ac0-09d5-11ea-3c85-f704e148a11f]\n",
      "└ @ Base loading.jl:1273\n",
      "WARNING: using LinA.Linearize in module Main conflicts with an existing identifier.\n",
      "WARNING: using LinA.Best in module Main conflicts with an existing identifier.\n",
      "WARNING: using LinA.Relative in module Main conflicts with an existing identifier.\n",
      "WARNING: using LinA.Absolute in module Main conflicts with an existing identifier.\n",
      "WARNING: using LinA.LinearBounding in module Main conflicts with an existing identifier.\n",
      "WARNING: using LinA.Under in module Main conflicts with an existing identifier.\n",
      "WARNING: using LinA.Over in module Main conflicts with an existing identifier.\n"
     ]
    },
    {
     "data": {
      "image/svg+xml": [
       "<?xml version=\"1.0\" encoding=\"utf-8\"?>\n",
       "<svg xmlns=\"http://www.w3.org/2000/svg\" xmlns:xlink=\"http://www.w3.org/1999/xlink\" width=\"600\" height=\"400\" viewBox=\"0 0 2400 1600\">\n",
       "<defs>\n",
       "  <clipPath id=\"clip0600\">\n",
       "    <rect x=\"0\" y=\"0\" width=\"2400\" height=\"1600\"/>\n",
       "  </clipPath>\n",
       "</defs>\n",
       "<path clip-path=\"url(#clip0600)\" d=\"\n",
       "M0 1600 L2400 1600 L2400 0 L0 0  Z\n",
       "  \" fill=\"#ffffff\" fill-rule=\"evenodd\" fill-opacity=\"1\"/>\n",
       "<defs>\n",
       "  <clipPath id=\"clip0601\">\n",
       "    <rect x=\"480\" y=\"0\" width=\"1681\" height=\"1600\"/>\n",
       "  </clipPath>\n",
       "</defs>\n",
       "<path clip-path=\"url(#clip0600)\" d=\"\n",
       "M153.898 1487.47 L2352.76 1487.47 L2352.76 47.2441 L153.898 47.2441  Z\n",
       "  \" fill=\"#ffffff\" fill-rule=\"evenodd\" fill-opacity=\"1\"/>\n",
       "<defs>\n",
       "  <clipPath id=\"clip0602\">\n",
       "    <rect x=\"153\" y=\"47\" width=\"2200\" height=\"1441\"/>\n",
       "  </clipPath>\n",
       "</defs>\n",
       "<polyline clip-path=\"url(#clip0602)\" style=\"stroke:#000000; stroke-width:2; stroke-opacity:0.1; fill:none\" points=\"\n",
       "  216.13,1487.47 216.13,47.2441 \n",
       "  \"/>\n",
       "<polyline clip-path=\"url(#clip0602)\" style=\"stroke:#000000; stroke-width:2; stroke-opacity:0.1; fill:none\" points=\"\n",
       "  734.728,1487.47 734.728,47.2441 \n",
       "  \"/>\n",
       "<polyline clip-path=\"url(#clip0602)\" style=\"stroke:#000000; stroke-width:2; stroke-opacity:0.1; fill:none\" points=\"\n",
       "  1253.33,1487.47 1253.33,47.2441 \n",
       "  \"/>\n",
       "<polyline clip-path=\"url(#clip0602)\" style=\"stroke:#000000; stroke-width:2; stroke-opacity:0.1; fill:none\" points=\"\n",
       "  1771.93,1487.47 1771.93,47.2441 \n",
       "  \"/>\n",
       "<polyline clip-path=\"url(#clip0602)\" style=\"stroke:#000000; stroke-width:2; stroke-opacity:0.1; fill:none\" points=\"\n",
       "  2290.52,1487.47 2290.52,47.2441 \n",
       "  \"/>\n",
       "<polyline clip-path=\"url(#clip0602)\" style=\"stroke:#000000; stroke-width:2; stroke-opacity:0.1; fill:none\" points=\"\n",
       "  153.898,1459.71 2352.76,1459.71 \n",
       "  \"/>\n",
       "<polyline clip-path=\"url(#clip0602)\" style=\"stroke:#000000; stroke-width:2; stroke-opacity:0.1; fill:none\" points=\"\n",
       "  153.898,1157.12 2352.76,1157.12 \n",
       "  \"/>\n",
       "<polyline clip-path=\"url(#clip0602)\" style=\"stroke:#000000; stroke-width:2; stroke-opacity:0.1; fill:none\" points=\"\n",
       "  153.898,854.533 2352.76,854.533 \n",
       "  \"/>\n",
       "<polyline clip-path=\"url(#clip0602)\" style=\"stroke:#000000; stroke-width:2; stroke-opacity:0.1; fill:none\" points=\"\n",
       "  153.898,551.946 2352.76,551.946 \n",
       "  \"/>\n",
       "<polyline clip-path=\"url(#clip0602)\" style=\"stroke:#000000; stroke-width:2; stroke-opacity:0.1; fill:none\" points=\"\n",
       "  153.898,249.359 2352.76,249.359 \n",
       "  \"/>\n",
       "<polyline clip-path=\"url(#clip0600)\" style=\"stroke:#000000; stroke-width:4; stroke-opacity:1; fill:none\" points=\"\n",
       "  153.898,1487.47 2352.76,1487.47 \n",
       "  \"/>\n",
       "<polyline clip-path=\"url(#clip0600)\" style=\"stroke:#000000; stroke-width:4; stroke-opacity:1; fill:none\" points=\"\n",
       "  153.898,1487.47 153.898,47.2441 \n",
       "  \"/>\n",
       "<polyline clip-path=\"url(#clip0600)\" style=\"stroke:#000000; stroke-width:4; stroke-opacity:1; fill:none\" points=\"\n",
       "  216.13,1487.47 216.13,1470.19 \n",
       "  \"/>\n",
       "<polyline clip-path=\"url(#clip0600)\" style=\"stroke:#000000; stroke-width:4; stroke-opacity:1; fill:none\" points=\"\n",
       "  734.728,1487.47 734.728,1470.19 \n",
       "  \"/>\n",
       "<polyline clip-path=\"url(#clip0600)\" style=\"stroke:#000000; stroke-width:4; stroke-opacity:1; fill:none\" points=\"\n",
       "  1253.33,1487.47 1253.33,1470.19 \n",
       "  \"/>\n",
       "<polyline clip-path=\"url(#clip0600)\" style=\"stroke:#000000; stroke-width:4; stroke-opacity:1; fill:none\" points=\"\n",
       "  1771.93,1487.47 1771.93,1470.19 \n",
       "  \"/>\n",
       "<polyline clip-path=\"url(#clip0600)\" style=\"stroke:#000000; stroke-width:4; stroke-opacity:1; fill:none\" points=\"\n",
       "  2290.52,1487.47 2290.52,1470.19 \n",
       "  \"/>\n",
       "<polyline clip-path=\"url(#clip0600)\" style=\"stroke:#000000; stroke-width:4; stroke-opacity:1; fill:none\" points=\"\n",
       "  153.898,1459.71 180.284,1459.71 \n",
       "  \"/>\n",
       "<polyline clip-path=\"url(#clip0600)\" style=\"stroke:#000000; stroke-width:4; stroke-opacity:1; fill:none\" points=\"\n",
       "  153.898,1157.12 180.284,1157.12 \n",
       "  \"/>\n",
       "<polyline clip-path=\"url(#clip0600)\" style=\"stroke:#000000; stroke-width:4; stroke-opacity:1; fill:none\" points=\"\n",
       "  153.898,854.533 180.284,854.533 \n",
       "  \"/>\n",
       "<polyline clip-path=\"url(#clip0600)\" style=\"stroke:#000000; stroke-width:4; stroke-opacity:1; fill:none\" points=\"\n",
       "  153.898,551.946 180.284,551.946 \n",
       "  \"/>\n",
       "<polyline clip-path=\"url(#clip0600)\" style=\"stroke:#000000; stroke-width:4; stroke-opacity:1; fill:none\" points=\"\n",
       "  153.898,249.359 180.284,249.359 \n",
       "  \"/>\n",
       "<g clip-path=\"url(#clip0600)\">\n",
       "<text style=\"fill:#000000; fill-opacity:1; font-family:Arial,Helvetica Neue,Helvetica,sans-serif; font-size:48px; text-anchor:middle;\" transform=\"rotate(0, 216.13, 1541.47)\" x=\"216.13\" y=\"1541.47\">1</text>\n",
       "</g>\n",
       "<g clip-path=\"url(#clip0600)\">\n",
       "<text style=\"fill:#000000; fill-opacity:1; font-family:Arial,Helvetica Neue,Helvetica,sans-serif; font-size:48px; text-anchor:middle;\" transform=\"rotate(0, 734.728, 1541.47)\" x=\"734.728\" y=\"1541.47\">2</text>\n",
       "</g>\n",
       "<g clip-path=\"url(#clip0600)\">\n",
       "<text style=\"fill:#000000; fill-opacity:1; font-family:Arial,Helvetica Neue,Helvetica,sans-serif; font-size:48px; text-anchor:middle;\" transform=\"rotate(0, 1253.33, 1541.47)\" x=\"1253.33\" y=\"1541.47\">3</text>\n",
       "</g>\n",
       "<g clip-path=\"url(#clip0600)\">\n",
       "<text style=\"fill:#000000; fill-opacity:1; font-family:Arial,Helvetica Neue,Helvetica,sans-serif; font-size:48px; text-anchor:middle;\" transform=\"rotate(0, 1771.93, 1541.47)\" x=\"1771.93\" y=\"1541.47\">4</text>\n",
       "</g>\n",
       "<g clip-path=\"url(#clip0600)\">\n",
       "<text style=\"fill:#000000; fill-opacity:1; font-family:Arial,Helvetica Neue,Helvetica,sans-serif; font-size:48px; text-anchor:middle;\" transform=\"rotate(0, 2290.52, 1541.47)\" x=\"2290.52\" y=\"1541.47\">5</text>\n",
       "</g>\n",
       "<g clip-path=\"url(#clip0600)\">\n",
       "<text style=\"fill:#000000; fill-opacity:1; font-family:Arial,Helvetica Neue,Helvetica,sans-serif; font-size:48px; text-anchor:end;\" transform=\"rotate(0, 129.898, 1477.21)\" x=\"129.898\" y=\"1477.21\">1.5</text>\n",
       "</g>\n",
       "<g clip-path=\"url(#clip0600)\">\n",
       "<text style=\"fill:#000000; fill-opacity:1; font-family:Arial,Helvetica Neue,Helvetica,sans-serif; font-size:48px; text-anchor:end;\" transform=\"rotate(0, 129.898, 1174.62)\" x=\"129.898\" y=\"1174.62\">2.0</text>\n",
       "</g>\n",
       "<g clip-path=\"url(#clip0600)\">\n",
       "<text style=\"fill:#000000; fill-opacity:1; font-family:Arial,Helvetica Neue,Helvetica,sans-serif; font-size:48px; text-anchor:end;\" transform=\"rotate(0, 129.898, 872.033)\" x=\"129.898\" y=\"872.033\">2.5</text>\n",
       "</g>\n",
       "<g clip-path=\"url(#clip0600)\">\n",
       "<text style=\"fill:#000000; fill-opacity:1; font-family:Arial,Helvetica Neue,Helvetica,sans-serif; font-size:48px; text-anchor:end;\" transform=\"rotate(0, 129.898, 569.446)\" x=\"129.898\" y=\"569.446\">3.0</text>\n",
       "</g>\n",
       "<g clip-path=\"url(#clip0600)\">\n",
       "<text style=\"fill:#000000; fill-opacity:1; font-family:Arial,Helvetica Neue,Helvetica,sans-serif; font-size:48px; text-anchor:end;\" transform=\"rotate(0, 129.898, 266.859)\" x=\"129.898\" y=\"266.859\">3.5</text>\n",
       "</g>\n",
       "<polyline clip-path=\"url(#clip0602)\" style=\"stroke:#009af9; stroke-width:4; stroke-opacity:1; fill:none\" points=\"\n",
       "  216.13,1253.06 221.194,1241.48 226.259,1229.94 231.323,1218.43 236.388,1206.95 283.217,1102.53 330.046,1001.8 376.875,905.5 423.704,814.337 479.988,712.462 \n",
       "  536.273,619.914 583.861,549.57 631.449,486.919 683.142,427.971 734.836,378.81 782.493,342.322 830.15,314.362 881.244,293.805 932.337,282.821 991.534,281.661 \n",
       "  1050.73,292.272 1103.34,310.874 1155.94,337.33 1202.08,366.314 1248.21,400.023 1348.8,486.421 1449.99,584.324 1561.87,694.457 1668.32,789.707 1723.66,831.787 \n",
       "  1779,866.796 1825.58,889.721 1872.17,905.795 1900.61,911.909 1929.05,915.019 1957.48,914.97 1985.92,911.614 2012.65,905.324 2039.39,895.886 2066.12,883.204 \n",
       "  2092.85,867.191 2135.68,834.398 2178.51,792.582 2221.33,741.535 2264.16,681.114 2270.75,670.977 2277.34,660.617 2283.93,650.032 2290.52,639.224 \n",
       "  \"/>\n",
       "<polyline clip-path=\"url(#clip0602)\" style=\"stroke:#e26f46; stroke-width:4; stroke-opacity:1; fill:none\" points=\"\n",
       "  216.13,1446.71 221.194,1435.14 226.259,1423.59 231.323,1412.08 236.388,1400.6 283.217,1296.19 330.046,1195.45 376.875,1099.16 423.704,1007.99 479.988,906.118 \n",
       "  536.273,813.57 583.861,743.226 631.449,680.575 683.142,621.626 734.836,572.465 782.493,535.978 830.15,508.018 881.244,487.461 932.337,476.476 991.534,475.317 \n",
       "  1050.73,485.928 1103.34,504.53 1155.94,530.986 1202.08,559.97 1248.21,593.679 1348.8,680.077 1449.99,777.98 1561.87,888.113 1668.32,983.362 1723.66,1025.44 \n",
       "  1779,1060.45 1825.58,1083.38 1872.17,1099.45 1900.61,1105.57 1929.05,1108.68 1957.48,1108.63 1985.92,1105.27 2012.65,1098.98 2039.39,1089.54 2066.12,1076.86 \n",
       "  2092.85,1060.85 2135.68,1028.05 2178.51,986.238 2221.33,935.19 2264.16,874.769 2270.75,864.633 2277.34,854.273 2283.93,843.688 2290.52,832.88 \n",
       "  \"/>\n",
       "<polyline clip-path=\"url(#clip0602)\" style=\"stroke:#3da44d; stroke-width:4; stroke-opacity:1; fill:none\" points=\"\n",
       "  216.13,1059.4 221.194,1047.83 226.259,1036.28 231.323,1024.77 236.388,1013.29 283.217,908.874 330.046,808.141 376.875,711.844 423.704,620.682 479.988,518.806 \n",
       "  536.273,426.258 583.861,355.914 631.449,293.263 683.142,234.315 734.836,185.154 782.493,148.666 830.15,120.706 881.244,100.15 932.337,89.1649 991.534,88.0053 \n",
       "  1050.73,98.6166 1103.34,117.218 1155.94,143.675 1202.08,172.658 1248.21,206.367 1348.8,292.765 1449.99,390.668 1561.87,500.801 1668.32,596.051 1723.66,638.131 \n",
       "  1779,673.14 1825.58,696.066 1872.17,712.14 1900.61,718.254 1929.05,721.364 1957.48,721.314 1985.92,717.959 2012.65,711.668 2039.39,702.23 2066.12,689.548 \n",
       "  2092.85,673.535 2135.68,640.742 2178.51,598.927 2221.33,547.879 2264.16,487.458 2270.75,477.321 2277.34,466.961 2283.93,456.377 2290.52,445.568 \n",
       "  \"/>\n",
       "<polyline clip-path=\"url(#clip0602)\" style=\"stroke:#c271d2; stroke-width:20; stroke-opacity:1; fill:none\" points=\"\n",
       "  216.13,1059.4 225.509,1050.58 312.233,969.002 364.351,919.977 408.416,878.528 456.283,833.502 500.412,791.992 547.723,747.489 602.537,695.927 651.25,650.106 \n",
       "  693.966,609.925 740.538,566.116 787.388,522.047 839.185,473.324 888.47,426.964 939.714,378.761 982.851,338.185 1035.52,288.645 1085.02,242.077 1164.34,167.47 \n",
       "  1176.54,155.989 \n",
       "  \"/>\n",
       "<polyline clip-path=\"url(#clip0602)\" style=\"stroke:#ac8d18; stroke-width:20; stroke-opacity:1; fill:none\" points=\"\n",
       "  1176.54,155.989 1179.42,162.27 1206.04,220.352 1222.04,255.256 1235.56,284.767 1250.26,316.825 1263.8,346.379 1278.32,378.065 1295.15,414.775 1310.1,447.399 \n",
       "  1323.21,476.007 1337.51,507.198 1351.89,538.574 1367.79,573.265 1382.92,606.272 1398.64,640.591 1411.89,669.481 1428.05,704.752 1443.25,737.908 1467.59,791.026 \n",
       "  1471.34,799.201 \n",
       "  \"/>\n",
       "<polyline clip-path=\"url(#clip0602)\" style=\"stroke:#00a9ad; stroke-width:20; stroke-opacity:1; fill:none\" points=\"\n",
       "  1471.34,799.201 1479.34,797.939 1553.31,786.267 1597.76,779.252 1635.35,773.322 1676.18,766.88 1713.82,760.94 1754.17,754.573 1800.93,747.196 1842.47,740.64 \n",
       "  1878.91,734.891 1918.63,728.623 1958.59,722.317 2002.77,715.346 2044.81,708.713 2088.52,701.816 2125.31,696.011 2170.24,688.923 2212.46,682.26 2280.11,671.585 \n",
       "  2290.52,669.943 \n",
       "  \"/>\n",
       "<path clip-path=\"url(#clip0600)\" d=\"\n",
       "M1989.93 554.124 L2280.76 554.124 L2280.76 130.764 L1989.93 130.764  Z\n",
       "  \" fill=\"#ffffff\" fill-rule=\"evenodd\" fill-opacity=\"1\"/>\n",
       "<polyline clip-path=\"url(#clip0600)\" style=\"stroke:#000000; stroke-width:4; stroke-opacity:1; fill:none\" points=\"\n",
       "  1989.93,554.124 2280.76,554.124 2280.76,130.764 1989.93,130.764 1989.93,554.124 \n",
       "  \"/>\n",
       "<polyline clip-path=\"url(#clip0600)\" style=\"stroke:#009af9; stroke-width:4; stroke-opacity:1; fill:none\" points=\"\n",
       "  2013.93,191.244 2157.93,191.244 \n",
       "  \"/>\n",
       "<g clip-path=\"url(#clip0600)\">\n",
       "<text style=\"fill:#000000; fill-opacity:1; font-family:Arial,Helvetica Neue,Helvetica,sans-serif; font-size:48px; text-anchor:start;\" transform=\"rotate(0, 2181.93, 208.744)\" x=\"2181.93\" y=\"208.744\">y1</text>\n",
       "</g>\n",
       "<polyline clip-path=\"url(#clip0600)\" style=\"stroke:#e26f46; stroke-width:4; stroke-opacity:1; fill:none\" points=\"\n",
       "  2013.93,251.724 2157.93,251.724 \n",
       "  \"/>\n",
       "<g clip-path=\"url(#clip0600)\">\n",
       "<text style=\"fill:#000000; fill-opacity:1; font-family:Arial,Helvetica Neue,Helvetica,sans-serif; font-size:48px; text-anchor:start;\" transform=\"rotate(0, 2181.93, 269.224)\" x=\"2181.93\" y=\"269.224\">y2</text>\n",
       "</g>\n",
       "<polyline clip-path=\"url(#clip0600)\" style=\"stroke:#3da44d; stroke-width:4; stroke-opacity:1; fill:none\" points=\"\n",
       "  2013.93,312.204 2157.93,312.204 \n",
       "  \"/>\n",
       "<g clip-path=\"url(#clip0600)\">\n",
       "<text style=\"fill:#000000; fill-opacity:1; font-family:Arial,Helvetica Neue,Helvetica,sans-serif; font-size:48px; text-anchor:start;\" transform=\"rotate(0, 2181.93, 329.704)\" x=\"2181.93\" y=\"329.704\">y3</text>\n",
       "</g>\n",
       "<polyline clip-path=\"url(#clip0600)\" style=\"stroke:#c271d2; stroke-width:20; stroke-opacity:1; fill:none\" points=\"\n",
       "  2013.93,372.684 2157.93,372.684 \n",
       "  \"/>\n",
       "<g clip-path=\"url(#clip0600)\">\n",
       "<text style=\"fill:#000000; fill-opacity:1; font-family:Arial,Helvetica Neue,Helvetica,sans-serif; font-size:48px; text-anchor:start;\" transform=\"rotate(0, 2181.93, 390.184)\" x=\"2181.93\" y=\"390.184\">y4</text>\n",
       "</g>\n",
       "<polyline clip-path=\"url(#clip0600)\" style=\"stroke:#ac8d18; stroke-width:20; stroke-opacity:1; fill:none\" points=\"\n",
       "  2013.93,433.164 2157.93,433.164 \n",
       "  \"/>\n",
       "<g clip-path=\"url(#clip0600)\">\n",
       "<text style=\"fill:#000000; fill-opacity:1; font-family:Arial,Helvetica Neue,Helvetica,sans-serif; font-size:48px; text-anchor:start;\" transform=\"rotate(0, 2181.93, 450.664)\" x=\"2181.93\" y=\"450.664\">y5</text>\n",
       "</g>\n",
       "<polyline clip-path=\"url(#clip0600)\" style=\"stroke:#00a9ad; stroke-width:20; stroke-opacity:1; fill:none\" points=\"\n",
       "  2013.93,493.644 2157.93,493.644 \n",
       "  \"/>\n",
       "<g clip-path=\"url(#clip0600)\">\n",
       "<text style=\"fill:#000000; fill-opacity:1; font-family:Arial,Helvetica Neue,Helvetica,sans-serif; font-size:48px; text-anchor:start;\" transform=\"rotate(0, 2181.93, 511.144)\" x=\"2181.93\" y=\"511.144\">y6</text>\n",
       "</g>\n",
       "</svg>\n"
      ]
     },
     "execution_count": 101,
     "metadata": {},
     "output_type": "execute_result"
    }
   ],
   "source": [
    "using LinA\n",
    "pwl  = Linearize(:((sqrt(x))*(sin(x))+x), 1, 5, Absolute(0.32))\n",
    "\n",
    "fct(x) = sqrt(x)*(sin(x))+x\n",
    "graph = plot(fct ,1.0,5.0)\n",
    "plot!(graph, x -> fct(x)-0.32 ,1.0,5.0)\n",
    "plot!(graph, x -> fct(x)+0.32 ,1.0,5.0)\n",
    "\n",
    "for i in pwl\n",
    "    plot!(graph,x-> i.fct(x),i.xMin,i.xMax,w=5) \n",
    "end\n",
    "\n",
    "graph"
   ]
  },
  {
   "cell_type": "code",
   "execution_count": 99,
   "metadata": {},
   "outputs": [
    {
     "data": {
      "image/svg+xml": [
       "<?xml version=\"1.0\" encoding=\"utf-8\"?>\n",
       "<svg xmlns=\"http://www.w3.org/2000/svg\" xmlns:xlink=\"http://www.w3.org/1999/xlink\" width=\"600\" height=\"400\" viewBox=\"0 0 2400 1600\">\n",
       "<defs>\n",
       "  <clipPath id=\"clip0200\">\n",
       "    <rect x=\"0\" y=\"0\" width=\"2400\" height=\"1600\"/>\n",
       "  </clipPath>\n",
       "</defs>\n",
       "<path clip-path=\"url(#clip0200)\" d=\"\n",
       "M0 1600 L2400 1600 L2400 0 L0 0  Z\n",
       "  \" fill=\"#ffffff\" fill-rule=\"evenodd\" fill-opacity=\"1\"/>\n",
       "<defs>\n",
       "  <clipPath id=\"clip0201\">\n",
       "    <rect x=\"480\" y=\"0\" width=\"1681\" height=\"1600\"/>\n",
       "  </clipPath>\n",
       "</defs>\n",
       "<path clip-path=\"url(#clip0200)\" d=\"\n",
       "M153.898 1487.47 L2352.76 1487.47 L2352.76 47.2441 L153.898 47.2441  Z\n",
       "  \" fill=\"#ffffff\" fill-rule=\"evenodd\" fill-opacity=\"1\"/>\n",
       "<defs>\n",
       "  <clipPath id=\"clip0202\">\n",
       "    <rect x=\"153\" y=\"47\" width=\"2200\" height=\"1441\"/>\n",
       "  </clipPath>\n",
       "</defs>\n",
       "<polyline clip-path=\"url(#clip0202)\" style=\"stroke:#000000; stroke-width:2; stroke-opacity:0.1; fill:none\" points=\"\n",
       "  216.13,1487.47 216.13,47.2441 \n",
       "  \"/>\n",
       "<polyline clip-path=\"url(#clip0202)\" style=\"stroke:#000000; stroke-width:2; stroke-opacity:0.1; fill:none\" points=\"\n",
       "  734.728,1487.47 734.728,47.2441 \n",
       "  \"/>\n",
       "<polyline clip-path=\"url(#clip0202)\" style=\"stroke:#000000; stroke-width:2; stroke-opacity:0.1; fill:none\" points=\"\n",
       "  1253.33,1487.47 1253.33,47.2441 \n",
       "  \"/>\n",
       "<polyline clip-path=\"url(#clip0202)\" style=\"stroke:#000000; stroke-width:2; stroke-opacity:0.1; fill:none\" points=\"\n",
       "  1771.93,1487.47 1771.93,47.2441 \n",
       "  \"/>\n",
       "<polyline clip-path=\"url(#clip0202)\" style=\"stroke:#000000; stroke-width:2; stroke-opacity:0.1; fill:none\" points=\"\n",
       "  2290.52,1487.47 2290.52,47.2441 \n",
       "  \"/>\n",
       "<polyline clip-path=\"url(#clip0202)\" style=\"stroke:#000000; stroke-width:2; stroke-opacity:0.1; fill:none\" points=\"\n",
       "  153.898,1459.71 2352.76,1459.71 \n",
       "  \"/>\n",
       "<polyline clip-path=\"url(#clip0202)\" style=\"stroke:#000000; stroke-width:2; stroke-opacity:0.1; fill:none\" points=\"\n",
       "  153.898,1157.12 2352.76,1157.12 \n",
       "  \"/>\n",
       "<polyline clip-path=\"url(#clip0202)\" style=\"stroke:#000000; stroke-width:2; stroke-opacity:0.1; fill:none\" points=\"\n",
       "  153.898,854.533 2352.76,854.533 \n",
       "  \"/>\n",
       "<polyline clip-path=\"url(#clip0202)\" style=\"stroke:#000000; stroke-width:2; stroke-opacity:0.1; fill:none\" points=\"\n",
       "  153.898,551.946 2352.76,551.946 \n",
       "  \"/>\n",
       "<polyline clip-path=\"url(#clip0202)\" style=\"stroke:#000000; stroke-width:2; stroke-opacity:0.1; fill:none\" points=\"\n",
       "  153.898,249.359 2352.76,249.359 \n",
       "  \"/>\n",
       "<polyline clip-path=\"url(#clip0200)\" style=\"stroke:#000000; stroke-width:4; stroke-opacity:1; fill:none\" points=\"\n",
       "  153.898,1487.47 2352.76,1487.47 \n",
       "  \"/>\n",
       "<polyline clip-path=\"url(#clip0200)\" style=\"stroke:#000000; stroke-width:4; stroke-opacity:1; fill:none\" points=\"\n",
       "  153.898,1487.47 153.898,47.2441 \n",
       "  \"/>\n",
       "<polyline clip-path=\"url(#clip0200)\" style=\"stroke:#000000; stroke-width:4; stroke-opacity:1; fill:none\" points=\"\n",
       "  216.13,1487.47 216.13,1470.19 \n",
       "  \"/>\n",
       "<polyline clip-path=\"url(#clip0200)\" style=\"stroke:#000000; stroke-width:4; stroke-opacity:1; fill:none\" points=\"\n",
       "  734.728,1487.47 734.728,1470.19 \n",
       "  \"/>\n",
       "<polyline clip-path=\"url(#clip0200)\" style=\"stroke:#000000; stroke-width:4; stroke-opacity:1; fill:none\" points=\"\n",
       "  1253.33,1487.47 1253.33,1470.19 \n",
       "  \"/>\n",
       "<polyline clip-path=\"url(#clip0200)\" style=\"stroke:#000000; stroke-width:4; stroke-opacity:1; fill:none\" points=\"\n",
       "  1771.93,1487.47 1771.93,1470.19 \n",
       "  \"/>\n",
       "<polyline clip-path=\"url(#clip0200)\" style=\"stroke:#000000; stroke-width:4; stroke-opacity:1; fill:none\" points=\"\n",
       "  2290.52,1487.47 2290.52,1470.19 \n",
       "  \"/>\n",
       "<polyline clip-path=\"url(#clip0200)\" style=\"stroke:#000000; stroke-width:4; stroke-opacity:1; fill:none\" points=\"\n",
       "  153.898,1459.71 180.284,1459.71 \n",
       "  \"/>\n",
       "<polyline clip-path=\"url(#clip0200)\" style=\"stroke:#000000; stroke-width:4; stroke-opacity:1; fill:none\" points=\"\n",
       "  153.898,1157.12 180.284,1157.12 \n",
       "  \"/>\n",
       "<polyline clip-path=\"url(#clip0200)\" style=\"stroke:#000000; stroke-width:4; stroke-opacity:1; fill:none\" points=\"\n",
       "  153.898,854.533 180.284,854.533 \n",
       "  \"/>\n",
       "<polyline clip-path=\"url(#clip0200)\" style=\"stroke:#000000; stroke-width:4; stroke-opacity:1; fill:none\" points=\"\n",
       "  153.898,551.946 180.284,551.946 \n",
       "  \"/>\n",
       "<polyline clip-path=\"url(#clip0200)\" style=\"stroke:#000000; stroke-width:4; stroke-opacity:1; fill:none\" points=\"\n",
       "  153.898,249.359 180.284,249.359 \n",
       "  \"/>\n",
       "<g clip-path=\"url(#clip0200)\">\n",
       "<text style=\"fill:#000000; fill-opacity:1; font-family:Arial,Helvetica Neue,Helvetica,sans-serif; font-size:48px; text-anchor:middle;\" transform=\"rotate(0, 216.13, 1541.47)\" x=\"216.13\" y=\"1541.47\">1</text>\n",
       "</g>\n",
       "<g clip-path=\"url(#clip0200)\">\n",
       "<text style=\"fill:#000000; fill-opacity:1; font-family:Arial,Helvetica Neue,Helvetica,sans-serif; font-size:48px; text-anchor:middle;\" transform=\"rotate(0, 734.728, 1541.47)\" x=\"734.728\" y=\"1541.47\">2</text>\n",
       "</g>\n",
       "<g clip-path=\"url(#clip0200)\">\n",
       "<text style=\"fill:#000000; fill-opacity:1; font-family:Arial,Helvetica Neue,Helvetica,sans-serif; font-size:48px; text-anchor:middle;\" transform=\"rotate(0, 1253.33, 1541.47)\" x=\"1253.33\" y=\"1541.47\">3</text>\n",
       "</g>\n",
       "<g clip-path=\"url(#clip0200)\">\n",
       "<text style=\"fill:#000000; fill-opacity:1; font-family:Arial,Helvetica Neue,Helvetica,sans-serif; font-size:48px; text-anchor:middle;\" transform=\"rotate(0, 1771.93, 1541.47)\" x=\"1771.93\" y=\"1541.47\">4</text>\n",
       "</g>\n",
       "<g clip-path=\"url(#clip0200)\">\n",
       "<text style=\"fill:#000000; fill-opacity:1; font-family:Arial,Helvetica Neue,Helvetica,sans-serif; font-size:48px; text-anchor:middle;\" transform=\"rotate(0, 2290.52, 1541.47)\" x=\"2290.52\" y=\"1541.47\">5</text>\n",
       "</g>\n",
       "<g clip-path=\"url(#clip0200)\">\n",
       "<text style=\"fill:#000000; fill-opacity:1; font-family:Arial,Helvetica Neue,Helvetica,sans-serif; font-size:48px; text-anchor:end;\" transform=\"rotate(0, 129.898, 1477.21)\" x=\"129.898\" y=\"1477.21\">1.5</text>\n",
       "</g>\n",
       "<g clip-path=\"url(#clip0200)\">\n",
       "<text style=\"fill:#000000; fill-opacity:1; font-family:Arial,Helvetica Neue,Helvetica,sans-serif; font-size:48px; text-anchor:end;\" transform=\"rotate(0, 129.898, 1174.62)\" x=\"129.898\" y=\"1174.62\">2.0</text>\n",
       "</g>\n",
       "<g clip-path=\"url(#clip0200)\">\n",
       "<text style=\"fill:#000000; fill-opacity:1; font-family:Arial,Helvetica Neue,Helvetica,sans-serif; font-size:48px; text-anchor:end;\" transform=\"rotate(0, 129.898, 872.033)\" x=\"129.898\" y=\"872.033\">2.5</text>\n",
       "</g>\n",
       "<g clip-path=\"url(#clip0200)\">\n",
       "<text style=\"fill:#000000; fill-opacity:1; font-family:Arial,Helvetica Neue,Helvetica,sans-serif; font-size:48px; text-anchor:end;\" transform=\"rotate(0, 129.898, 569.446)\" x=\"129.898\" y=\"569.446\">3.0</text>\n",
       "</g>\n",
       "<g clip-path=\"url(#clip0200)\">\n",
       "<text style=\"fill:#000000; fill-opacity:1; font-family:Arial,Helvetica Neue,Helvetica,sans-serif; font-size:48px; text-anchor:end;\" transform=\"rotate(0, 129.898, 266.859)\" x=\"129.898\" y=\"266.859\">3.5</text>\n",
       "</g>\n",
       "<polyline clip-path=\"url(#clip0202)\" style=\"stroke:#009af9; stroke-width:4; stroke-opacity:1; fill:none\" points=\"\n",
       "  216.13,1253.06 221.194,1241.48 226.259,1229.94 231.323,1218.43 236.388,1206.95 283.217,1102.53 330.046,1001.8 376.875,905.5 423.704,814.337 479.988,712.462 \n",
       "  536.273,619.914 583.861,549.57 631.449,486.919 683.142,427.971 734.836,378.81 782.493,342.322 830.15,314.362 881.244,293.805 932.337,282.821 991.534,281.661 \n",
       "  1050.73,292.272 1103.34,310.874 1155.94,337.33 1202.08,366.314 1248.21,400.023 1348.8,486.421 1449.99,584.324 1561.87,694.457 1668.32,789.707 1723.66,831.787 \n",
       "  1779,866.796 1825.58,889.721 1872.17,905.795 1900.61,911.909 1929.05,915.019 1957.48,914.97 1985.92,911.614 2012.65,905.324 2039.39,895.886 2066.12,883.204 \n",
       "  2092.85,867.191 2135.68,834.398 2178.51,792.582 2221.33,741.535 2264.16,681.114 2270.75,670.977 2277.34,660.617 2283.93,650.032 2290.52,639.224 \n",
       "  \"/>\n",
       "<polyline clip-path=\"url(#clip0202)\" style=\"stroke:#e26f46; stroke-width:4; stroke-opacity:1; fill:none\" points=\"\n",
       "  216.13,1446.71 221.194,1435.14 226.259,1423.59 231.323,1412.08 236.388,1400.6 283.217,1296.19 330.046,1195.45 376.875,1099.16 423.704,1007.99 479.988,906.118 \n",
       "  536.273,813.57 583.861,743.226 631.449,680.575 683.142,621.626 734.836,572.465 782.493,535.978 830.15,508.018 881.244,487.461 932.337,476.476 991.534,475.317 \n",
       "  1050.73,485.928 1103.34,504.53 1155.94,530.986 1202.08,559.97 1248.21,593.679 1348.8,680.077 1449.99,777.98 1561.87,888.113 1668.32,983.362 1723.66,1025.44 \n",
       "  1779,1060.45 1825.58,1083.38 1872.17,1099.45 1900.61,1105.57 1929.05,1108.68 1957.48,1108.63 1985.92,1105.27 2012.65,1098.98 2039.39,1089.54 2066.12,1076.86 \n",
       "  2092.85,1060.85 2135.68,1028.05 2178.51,986.238 2221.33,935.19 2264.16,874.769 2270.75,864.633 2277.34,854.273 2283.93,843.688 2290.52,832.88 \n",
       "  \"/>\n",
       "<polyline clip-path=\"url(#clip0202)\" style=\"stroke:#3da44d; stroke-width:4; stroke-opacity:1; fill:none\" points=\"\n",
       "  216.13,1059.4 221.194,1047.83 226.259,1036.28 231.323,1024.77 236.388,1013.29 283.217,908.874 330.046,808.141 376.875,711.844 423.704,620.682 479.988,518.806 \n",
       "  536.273,426.258 583.861,355.914 631.449,293.263 683.142,234.315 734.836,185.154 782.493,148.666 830.15,120.706 881.244,100.15 932.337,89.1649 991.534,88.0053 \n",
       "  1050.73,98.6166 1103.34,117.218 1155.94,143.675 1202.08,172.658 1248.21,206.367 1348.8,292.765 1449.99,390.668 1561.87,500.801 1668.32,596.051 1723.66,638.131 \n",
       "  1779,673.14 1825.58,696.066 1872.17,712.14 1900.61,718.254 1929.05,721.364 1957.48,721.314 1985.92,717.959 2012.65,711.668 2039.39,702.23 2066.12,689.548 \n",
       "  2092.85,673.535 2135.68,640.742 2178.51,598.927 2221.33,547.879 2264.16,487.458 2270.75,477.321 2277.34,466.961 2283.93,456.377 2290.52,445.568 \n",
       "  \"/>\n",
       "<polyline clip-path=\"url(#clip0202)\" style=\"stroke:#c271d2; stroke-width:20; stroke-opacity:1; fill:none\" points=\"\n",
       "  216.13,1059.4 225.509,1050.58 312.233,969.002 364.351,919.977 408.416,878.528 456.283,833.502 500.412,791.992 547.723,747.489 602.537,695.927 651.25,650.106 \n",
       "  693.966,609.925 740.538,566.116 787.388,522.047 839.185,473.324 888.47,426.964 939.714,378.761 982.851,338.185 1035.52,288.645 1085.02,242.077 1164.34,167.47 \n",
       "  1176.54,155.989 \n",
       "  \"/>\n",
       "<polyline clip-path=\"url(#clip0202)\" style=\"stroke:#ac8d18; stroke-width:20; stroke-opacity:1; fill:none\" points=\"\n",
       "  1176.54,527.405 1187.42,530.294 1288.01,557.012 1348.46,573.068 1399.57,586.643 1455.1,601.389 1506.28,614.984 1561.16,629.56 1624.74,646.446 1681.24,661.454 \n",
       "  1730.78,674.613 1784.8,688.961 1839.14,703.394 1899.22,719.352 1956.39,734.535 2015.83,750.322 2065.86,763.611 2126.95,779.836 2184.37,795.087 2276.37,819.522 \n",
       "  2290.52,823.282 \n",
       "  \"/>\n",
       "<path clip-path=\"url(#clip0200)\" d=\"\n",
       "M1989.93 493.644 L2280.76 493.644 L2280.76 130.764 L1989.93 130.764  Z\n",
       "  \" fill=\"#ffffff\" fill-rule=\"evenodd\" fill-opacity=\"1\"/>\n",
       "<polyline clip-path=\"url(#clip0200)\" style=\"stroke:#000000; stroke-width:4; stroke-opacity:1; fill:none\" points=\"\n",
       "  1989.93,493.644 2280.76,493.644 2280.76,130.764 1989.93,130.764 1989.93,493.644 \n",
       "  \"/>\n",
       "<polyline clip-path=\"url(#clip0200)\" style=\"stroke:#009af9; stroke-width:4; stroke-opacity:1; fill:none\" points=\"\n",
       "  2013.93,191.244 2157.93,191.244 \n",
       "  \"/>\n",
       "<g clip-path=\"url(#clip0200)\">\n",
       "<text style=\"fill:#000000; fill-opacity:1; font-family:Arial,Helvetica Neue,Helvetica,sans-serif; font-size:48px; text-anchor:start;\" transform=\"rotate(0, 2181.93, 208.744)\" x=\"2181.93\" y=\"208.744\">y1</text>\n",
       "</g>\n",
       "<polyline clip-path=\"url(#clip0200)\" style=\"stroke:#e26f46; stroke-width:4; stroke-opacity:1; fill:none\" points=\"\n",
       "  2013.93,251.724 2157.93,251.724 \n",
       "  \"/>\n",
       "<g clip-path=\"url(#clip0200)\">\n",
       "<text style=\"fill:#000000; fill-opacity:1; font-family:Arial,Helvetica Neue,Helvetica,sans-serif; font-size:48px; text-anchor:start;\" transform=\"rotate(0, 2181.93, 269.224)\" x=\"2181.93\" y=\"269.224\">y2</text>\n",
       "</g>\n",
       "<polyline clip-path=\"url(#clip0200)\" style=\"stroke:#3da44d; stroke-width:4; stroke-opacity:1; fill:none\" points=\"\n",
       "  2013.93,312.204 2157.93,312.204 \n",
       "  \"/>\n",
       "<g clip-path=\"url(#clip0200)\">\n",
       "<text style=\"fill:#000000; fill-opacity:1; font-family:Arial,Helvetica Neue,Helvetica,sans-serif; font-size:48px; text-anchor:start;\" transform=\"rotate(0, 2181.93, 329.704)\" x=\"2181.93\" y=\"329.704\">y3</text>\n",
       "</g>\n",
       "<polyline clip-path=\"url(#clip0200)\" style=\"stroke:#c271d2; stroke-width:20; stroke-opacity:1; fill:none\" points=\"\n",
       "  2013.93,372.684 2157.93,372.684 \n",
       "  \"/>\n",
       "<g clip-path=\"url(#clip0200)\">\n",
       "<text style=\"fill:#000000; fill-opacity:1; font-family:Arial,Helvetica Neue,Helvetica,sans-serif; font-size:48px; text-anchor:start;\" transform=\"rotate(0, 2181.93, 390.184)\" x=\"2181.93\" y=\"390.184\">y4</text>\n",
       "</g>\n",
       "<polyline clip-path=\"url(#clip0200)\" style=\"stroke:#ac8d18; stroke-width:20; stroke-opacity:1; fill:none\" points=\"\n",
       "  2013.93,433.164 2157.93,433.164 \n",
       "  \"/>\n",
       "<g clip-path=\"url(#clip0200)\">\n",
       "<text style=\"fill:#000000; fill-opacity:1; font-family:Arial,Helvetica Neue,Helvetica,sans-serif; font-size:48px; text-anchor:start;\" transform=\"rotate(0, 2181.93, 450.664)\" x=\"2181.93\" y=\"450.664\">y5</text>\n",
       "</g>\n",
       "</svg>\n"
      ]
     },
     "execution_count": 99,
     "metadata": {},
     "output_type": "execute_result"
    }
   ],
   "source": [
    "using Plots\n",
    "\n",
    "fct(x) = sqrt(x)*(sin(x))+x\n",
    "graph = plot(fct ,1.0,5.0)\n",
    "plot!(graph, x -> fct(x)-0.32 ,1.0,5.0)\n",
    "plot!(graph, x -> fct(x)+0.32 ,1.0,5.0)\n",
    "\n",
    "for i in pwl\n",
    "    plot!(graph,x-> i.fct(x),i.xMin,i.xMax,w=5) \n",
    "end\n",
    "\n",
    "graph"
   ]
  },
  {
   "cell_type": "code",
   "execution_count": 100,
   "metadata": {},
   "outputs": [
    {
     "data": {
      "text/plain": [
       "2-element Array{LinearPiece,1}:\n",
       " LinearPiece(1, 2.8519378245016647, 0.8060828093467353, 1.3553881754611612, var\"#399#400\"{Float64,Float64}(0.8060828093467353, 1.3553881754611612))       \n",
       " LinearPiece(2.8519378245016647, 5.0, -0.22760641824161798, 3.689671325785885, var\"#383#384\"{Array{Float64,1}}([-0.22760641824161798, 3.689671325785885]))"
      ]
     },
     "execution_count": 100,
     "metadata": {},
     "output_type": "execute_result"
    }
   ],
   "source": [
    "pwl"
   ]
  },
  {
   "cell_type": "code",
   "execution_count": null,
   "metadata": {},
   "outputs": [],
   "source": [
    "pwl[2]"
   ]
  },
  {
   "cell_type": "code",
   "execution_count": 69,
   "metadata": {},
   "outputs": [
    {
     "data": {
      "text/plain": [
       "1-element Array{Float64,1}:\n",
       " 3.4203854894568733"
      ]
     },
     "execution_count": 69,
     "metadata": {},
     "output_type": "execute_result"
    }
   ],
   "source": [
    "decoupageConvavite(1,5,:((sqrt(x))*(sin(x))+x))"
   ]
  },
  {
   "cell_type": "code",
   "execution_count": 71,
   "metadata": {},
   "outputs": [
    {
     "name": "stdout",
     "output_type": "stream",
     "text": [
      "search: \u001b[0m\u001b[1ms\u001b[22m\u001b[0m\u001b[1me\u001b[22m\u001b[0m\u001b[1ma\u001b[22m\u001b[0m\u001b[1mr\u001b[22m\u001b[0m\u001b[1mc\u001b[22m\u001b[0m\u001b[1mh\u001b[22m\u001b[0m\u001b[1ms\u001b[22m\u001b[0m\u001b[1mo\u001b[22m\u001b[0m\u001b[1mr\u001b[22m\u001b[0m\u001b[1mt\u001b[22m\u001b[0m\u001b[1me\u001b[22m\u001b[0m\u001b[1md\u001b[22m\u001b[0m\u001b[1mf\u001b[22m\u001b[0m\u001b[1mi\u001b[22m\u001b[0m\u001b[1mr\u001b[22m\u001b[0m\u001b[1ms\u001b[22m\u001b[0m\u001b[1mt\u001b[22m \u001b[0m\u001b[1ms\u001b[22m\u001b[0m\u001b[1me\u001b[22m\u001b[0m\u001b[1ma\u001b[22m\u001b[0m\u001b[1mr\u001b[22m\u001b[0m\u001b[1mc\u001b[22m\u001b[0m\u001b[1mh\u001b[22m\u001b[0m\u001b[1ms\u001b[22m\u001b[0m\u001b[1mo\u001b[22m\u001b[0m\u001b[1mr\u001b[22m\u001b[0m\u001b[1mt\u001b[22m\u001b[0m\u001b[1me\u001b[22m\u001b[0m\u001b[1md\u001b[22mlast \u001b[0m\u001b[1ms\u001b[22m\u001b[0m\u001b[1me\u001b[22m\u001b[0m\u001b[1ma\u001b[22m\u001b[0m\u001b[1mr\u001b[22m\u001b[0m\u001b[1mc\u001b[22m\u001b[0m\u001b[1mh\u001b[22m\u001b[0m\u001b[1ms\u001b[22m\u001b[0m\u001b[1mo\u001b[22m\u001b[0m\u001b[1mr\u001b[22m\u001b[0m\u001b[1mt\u001b[22m\u001b[0m\u001b[1me\u001b[22m\u001b[0m\u001b[1md\u001b[22m\n",
      "\n"
     ]
    },
    {
     "data": {
      "text/latex": [
       "\\begin{verbatim}\n",
       "searchsortedfirst(a, x; by=<transform>, lt=<comparison>, rev=false)\n",
       "\\end{verbatim}\n",
       "Return the index of the first value in \\texttt{a} greater than or equal to \\texttt{x}, according to the specified order. Return \\texttt{length(a) + 1} if \\texttt{x} is greater than all values in \\texttt{a}. \\texttt{a} is assumed to be sorted.\n",
       "\n",
       "\\section{Examples}\n",
       "\\begin{verbatim}\n",
       "julia> searchsortedfirst([1, 2, 4, 5, 5, 7], 4) # single match\n",
       "3\n",
       "\n",
       "julia> searchsortedfirst([1, 2, 4, 5, 5, 7], 5) # multiple matches\n",
       "4\n",
       "\n",
       "julia> searchsortedfirst([1, 2, 4, 5, 5, 7], 3) # no match, insert in the middle\n",
       "3\n",
       "\n",
       "julia> searchsortedfirst([1, 2, 4, 5, 5, 7], 9) # no match, insert at end\n",
       "7\n",
       "\n",
       "julia> searchsortedfirst([1, 2, 4, 5, 5, 7], 0) # no match, insert at start\n",
       "1\n",
       "\\end{verbatim}\n"
      ],
      "text/markdown": [
       "```\n",
       "searchsortedfirst(a, x; by=<transform>, lt=<comparison>, rev=false)\n",
       "```\n",
       "\n",
       "Return the index of the first value in `a` greater than or equal to `x`, according to the specified order. Return `length(a) + 1` if `x` is greater than all values in `a`. `a` is assumed to be sorted.\n",
       "\n",
       "# Examples\n",
       "\n",
       "```jldoctest\n",
       "julia> searchsortedfirst([1, 2, 4, 5, 5, 7], 4) # single match\n",
       "3\n",
       "\n",
       "julia> searchsortedfirst([1, 2, 4, 5, 5, 7], 5) # multiple matches\n",
       "4\n",
       "\n",
       "julia> searchsortedfirst([1, 2, 4, 5, 5, 7], 3) # no match, insert in the middle\n",
       "3\n",
       "\n",
       "julia> searchsortedfirst([1, 2, 4, 5, 5, 7], 9) # no match, insert at end\n",
       "7\n",
       "\n",
       "julia> searchsortedfirst([1, 2, 4, 5, 5, 7], 0) # no match, insert at start\n",
       "1\n",
       "```\n"
      ],
      "text/plain": [
       "\u001b[36m  searchsortedfirst(a, x; by=<transform>, lt=<comparison>, rev=false)\u001b[39m\n",
       "\n",
       "  Return the index of the first value in \u001b[36ma\u001b[39m greater than or equal to \u001b[36mx\u001b[39m,\n",
       "  according to the specified order. Return \u001b[36mlength(a) + 1\u001b[39m if \u001b[36mx\u001b[39m is greater than\n",
       "  all values in \u001b[36ma\u001b[39m. \u001b[36ma\u001b[39m is assumed to be sorted.\n",
       "\n",
       "\u001b[1m  Examples\u001b[22m\n",
       "\u001b[1m  ≡≡≡≡≡≡≡≡≡≡\u001b[22m\n",
       "\n",
       "\u001b[36m  julia> searchsortedfirst([1, 2, 4, 5, 5, 7], 4) # single match\u001b[39m\n",
       "\u001b[36m  3\u001b[39m\n",
       "\u001b[36m  \u001b[39m\n",
       "\u001b[36m  julia> searchsortedfirst([1, 2, 4, 5, 5, 7], 5) # multiple matches\u001b[39m\n",
       "\u001b[36m  4\u001b[39m\n",
       "\u001b[36m  \u001b[39m\n",
       "\u001b[36m  julia> searchsortedfirst([1, 2, 4, 5, 5, 7], 3) # no match, insert in the middle\u001b[39m\n",
       "\u001b[36m  3\u001b[39m\n",
       "\u001b[36m  \u001b[39m\n",
       "\u001b[36m  julia> searchsortedfirst([1, 2, 4, 5, 5, 7], 9) # no match, insert at end\u001b[39m\n",
       "\u001b[36m  7\u001b[39m\n",
       "\u001b[36m  \u001b[39m\n",
       "\u001b[36m  julia> searchsortedfirst([1, 2, 4, 5, 5, 7], 0) # no match, insert at start\u001b[39m\n",
       "\u001b[36m  1\u001b[39m"
      ]
     },
     "execution_count": 71,
     "metadata": {},
     "output_type": "execute_result"
    }
   ],
   "source": [
    "?searchsortedfirst"
   ]
  },
  {
   "cell_type": "code",
   "execution_count": 82,
   "metadata": {},
   "outputs": [
    {
     "ename": "MethodError",
     "evalue": "MethodError: no method matching +(::typeof(fct), ::Int64)\nClosest candidates are:\n  +(::Any, ::Any, !Matched::Any, !Matched::Any...) at operators.jl:529\n  +(!Matched::Complex{Bool}, ::Real) at complex.jl:297\n  +(!Matched::Missing, ::Number) at missing.jl:115\n  ...",
     "output_type": "error",
     "traceback": [
      "MethodError: no method matching +(::typeof(fct), ::Int64)\nClosest candidates are:\n  +(::Any, ::Any, !Matched::Any, !Matched::Any...) at operators.jl:529\n  +(!Matched::Complex{Bool}, ::Real) at complex.jl:297\n  +(!Matched::Missing, ::Number) at missing.jl:115\n  ...",
      "",
      "Stacktrace:",
      " [1] top-level scope at In[82]:1"
     ]
    }
   ],
   "source": [
    "fct +3"
   ]
  },
  {
   "cell_type": "code",
   "execution_count": null,
   "metadata": {},
   "outputs": [],
   "source": []
  }
 ],
 "metadata": {
  "@webio": {
   "lastCommId": null,
   "lastKernelId": null
  },
  "kernelspec": {
   "display_name": "Julia 1.3.1",
   "language": "julia",
   "name": "julia-1.3"
  },
  "language_info": {
   "file_extension": ".jl",
   "mimetype": "application/julia",
   "name": "julia",
   "version": "1.3.1"
  }
 },
 "nbformat": 4,
 "nbformat_minor": 2
}
